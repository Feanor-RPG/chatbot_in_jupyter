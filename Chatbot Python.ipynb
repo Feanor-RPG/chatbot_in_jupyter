{
 "cells": [
  {
   "cell_type": "markdown",
   "id": "d7da20a4",
   "metadata": {},
   "source": [
    "# Inicio"
   ]
  },
  {
   "cell_type": "code",
   "execution_count": 12,
   "id": "823a6453",
   "metadata": {},
   "outputs": [
    {
     "name": "stdout",
     "output_type": "stream",
     "text": [
      "✔ Download and installation successful\n",
      "You can now load the package via spacy.load('en_core_web_sm')\n"
     ]
    }
   ],
   "source": [
    "from chatterbot import ChatBot\n",
    "from chatterbot.trainers import ListTrainer\n",
    "\n",
    "# isso aqui só precisa para corrigir o bug\n",
    "from spacy.cli import download\n",
    "\n",
    "download(\"en_core_web_sm\")\n",
    "\n",
    "class ENGSM:\n",
    "    ISO_639_1 = 'en_core_web_sm'\n"
   ]
  },
  {
   "cell_type": "markdown",
   "id": "3b839740",
   "metadata": {},
   "source": [
    "# Aprendizado da chatbot"
   ]
  },
  {
   "cell_type": "code",
   "execution_count": 39,
   "id": "87de7a0e",
   "metadata": {},
   "outputs": [
    {
     "name": "stdout",
     "output_type": "stream",
     "text": [
      "List Trainer: [####################] 100%\n"
     ]
    }
   ],
   "source": [
    "chatbot = ChatBot(\"Ceris\", tagger_language=ENGSM)\n",
    "\n",
    "conversa = [\n",
    "    \"Ola\",\n",
    "    \"Ola, me chamo Ceris\",\n",
    "    \"Prazer em te conhecer\",\n",
    "    \"Igualmente\",\n",
    "    \"O Que voce gosta de fazer?\",\n",
    "    \"Eu gosto de Astronomia\",\n",
    "    \"Me fale sobre Mercurio\",\n",
    "    \"Mercurio é o planeta mais proximo do Sol\",\n",
    "    \"Me fale sobre Venus\",\n",
    "    \"Venus e o segundo planeta do sistema solar, e o mais quente\",\n",
    "    \"Me fale sobre a Terra\",\n",
    "    \"Terceiro planeta do sistema solar, é o nosso lar\",\n",
    "    \"Me fale sobre Marte\",\n",
    "    \"Marte é o planeta vermelho, e o quarto planeta do sistema solar\",\n",
    "    \"Me fale sobre Jupiter\",\n",
    "    \"Ele é quinto planeeta, e o maior do distema solar, ele é um planeta gasoso\",\n",
    "    \"Me fale sobre Saturno\",\n",
    "    \"É o sexto planeta, ele tem lindos aneis\",\n",
    "    \"Me fale sobre Urano\",\n",
    "    \"Setimo planeta, ele é lindo\",\n",
    "    \"Me fale sobre Netuno\",\n",
    "    \"Oitavo planeta, ele tem o nome do Deus dos Mares\",\n",
    "    \"Oi\",\n",
    "    \"Ola\",\n",
    "    \"Salve\",\n",
    "    \"Iae meu veio\",\n",
    "    \"Bom dia\",\n",
    "    \"Bom dia, Tudo bem?\",\n",
    "    \"Tudo, e com voce?\",\n",
    "    \"Tudo\",\n",
    "    \"Qual é a boa?\",\n",
    "    \"Eu vou bem, obrigada\",\n",
    "    \"Boa tarde\",\n",
    "    \"Boa tarde, Tudo bem?\"\n",
    "    \"Boa noite\",\n",
    "    \"Boa noite, tudo bem?\",\n",
    "    \n",
    "]\n",
    "\n",
    "trainer = ListTrainer(chatbot)\n",
    "trainer.train(conversa)"
   ]
  },
  {
   "cell_type": "markdown",
   "id": "840670a6",
   "metadata": {},
   "source": [
    "# Rode a celula para interagir com o chat; Ao escrever \"parar\", o chat para."
   ]
  },
  {
   "cell_type": "code",
   "execution_count": 37,
   "id": "5d7d605e",
   "metadata": {
    "scrolled": true
   },
   "outputs": [
    {
     "name": "stdout",
     "output_type": "stream",
     "text": [
      "Converse com a Ceris:ola\n",
      "Ola, me chamo Ceris\n",
      "Converse com a Ceris:boa noite\n",
      "Marte é o planeta vermelho, e o quarto planeta do sistema solar\n",
      "Converse com a Ceris:boa noite\n",
      "Prazer em te conhecer\n",
      "Converse com a Ceris:ola\n",
      "Ola, me chamo Ceris\n",
      "Converse com a Ceris:boa noite\n",
      "Me fale sobre Marte\n",
      "Converse com a Ceris:parar\n"
     ]
    }
   ],
   "source": [
    "while True:\n",
    "    mensagem = input(\"Converse com a Ceris:\")\n",
    "    if mensagem == \"parar\":\n",
    "        break\n",
    "    resposta = chatbot.get_response(mensagem)\n",
    "    print(resposta)"
   ]
  },
  {
   "cell_type": "code",
   "execution_count": 29,
   "id": "e9fdf79c",
   "metadata": {},
   "outputs": [],
   "source": [
    "chatbot.storage.drop()"
   ]
  }
 ],
 "metadata": {
  "kernelspec": {
   "display_name": "Python 3",
   "language": "python",
   "name": "python3"
  },
  "language_info": {
   "codemirror_mode": {
    "name": "ipython",
    "version": 3
   },
   "file_extension": ".py",
   "mimetype": "text/x-python",
   "name": "python",
   "nbconvert_exporter": "python",
   "pygments_lexer": "ipython3",
   "version": "3.6.13"
  }
 },
 "nbformat": 4,
 "nbformat_minor": 5
}
